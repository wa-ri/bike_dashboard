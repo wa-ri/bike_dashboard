{
 "cells": [
  {
   "cell_type": "markdown",
   "metadata": {
    "id": "H9wADwK78DCz"
   },
   "source": [
    "# Proyek Analisis Data: [Bike Sharing Dataset]\n",
    "- **Nama:** Wari\n",
    "- **Email:** afrianwari89@gmail.com\n",
    "- **ID Dicoding:** wari"
   ]
  },
  {
   "cell_type": "markdown",
   "metadata": {
    "id": "eE0raob58DC0"
   },
   "source": [
    "## Menentukan Pertanyaan Bisnis"
   ]
  },
  {
   "cell_type": "markdown",
   "metadata": {
    "id": "GmQeQ5YF8DC0"
   },
   "source": [
    "- Dalam kondisi musim seperti apa banyaknya penyewaan sepeda?\n",
    "- kondisi hari apa banyaknya penyewaan sepeda?"
   ]
  },
  {
   "cell_type": "markdown",
   "metadata": {
    "id": "H-z4QGlO8DC1"
   },
   "source": [
    "## Import Semua Packages/Library yang Digunakan"
   ]
  },
  {
   "cell_type": "code",
   "execution_count": 1,
   "metadata": {
    "id": "FVYwaObI8DC1"
   },
   "outputs": [],
   "source": [
    "# memasukan library\n",
    "import pandas as pd\n",
    "import numpy as np\n",
    "import matplotlib.pyplot as plt\n",
    "import seaborn as sns\n",
    "from scipy.stats import f_oneway"
   ]
  },
  {
   "cell_type": "markdown",
   "metadata": {
    "id": "h_Sh51Xy8DC1"
   },
   "source": [
    "## Data Wrangling"
   ]
  },
  {
   "cell_type": "markdown",
   "metadata": {
    "id": "sXU2GBYu8DC1"
   },
   "source": [
    "### Gathering Data"
   ]
  },
  {
   "cell_type": "code",
   "execution_count": 2,
   "metadata": {
    "colab": {
     "base_uri": "https://localhost:8080/",
     "height": 313
    },
    "id": "zjCBk1BI8DC1",
    "outputId": "c8b16085-ef39-4b54-a5bc-0c168006c3dd"
   },
   "outputs": [
    {
     "data": {
      "text/html": [
       "<div>\n",
       "<style scoped>\n",
       "    .dataframe tbody tr th:only-of-type {\n",
       "        vertical-align: middle;\n",
       "    }\n",
       "\n",
       "    .dataframe tbody tr th {\n",
       "        vertical-align: top;\n",
       "    }\n",
       "\n",
       "    .dataframe thead th {\n",
       "        text-align: right;\n",
       "    }\n",
       "</style>\n",
       "<table border=\"1\" class=\"dataframe\">\n",
       "  <thead>\n",
       "    <tr style=\"text-align: right;\">\n",
       "      <th></th>\n",
       "      <th>instant</th>\n",
       "      <th>dteday</th>\n",
       "      <th>season</th>\n",
       "      <th>yr</th>\n",
       "      <th>mnth</th>\n",
       "      <th>holiday</th>\n",
       "      <th>weekday</th>\n",
       "      <th>workingday</th>\n",
       "      <th>weathersit</th>\n",
       "      <th>temp</th>\n",
       "      <th>atemp</th>\n",
       "      <th>hum</th>\n",
       "      <th>windspeed</th>\n",
       "      <th>casual</th>\n",
       "      <th>registered</th>\n",
       "      <th>cnt</th>\n",
       "    </tr>\n",
       "  </thead>\n",
       "  <tbody>\n",
       "    <tr>\n",
       "      <th>0</th>\n",
       "      <td>1</td>\n",
       "      <td>2011-01-01</td>\n",
       "      <td>1</td>\n",
       "      <td>0</td>\n",
       "      <td>1</td>\n",
       "      <td>0</td>\n",
       "      <td>6</td>\n",
       "      <td>0</td>\n",
       "      <td>2</td>\n",
       "      <td>0.344167</td>\n",
       "      <td>0.363625</td>\n",
       "      <td>0.805833</td>\n",
       "      <td>0.160446</td>\n",
       "      <td>331</td>\n",
       "      <td>654</td>\n",
       "      <td>985</td>\n",
       "    </tr>\n",
       "    <tr>\n",
       "      <th>1</th>\n",
       "      <td>2</td>\n",
       "      <td>2011-01-02</td>\n",
       "      <td>1</td>\n",
       "      <td>0</td>\n",
       "      <td>1</td>\n",
       "      <td>0</td>\n",
       "      <td>0</td>\n",
       "      <td>0</td>\n",
       "      <td>2</td>\n",
       "      <td>0.363478</td>\n",
       "      <td>0.353739</td>\n",
       "      <td>0.696087</td>\n",
       "      <td>0.248539</td>\n",
       "      <td>131</td>\n",
       "      <td>670</td>\n",
       "      <td>801</td>\n",
       "    </tr>\n",
       "    <tr>\n",
       "      <th>2</th>\n",
       "      <td>3</td>\n",
       "      <td>2011-01-03</td>\n",
       "      <td>1</td>\n",
       "      <td>0</td>\n",
       "      <td>1</td>\n",
       "      <td>0</td>\n",
       "      <td>1</td>\n",
       "      <td>1</td>\n",
       "      <td>1</td>\n",
       "      <td>0.196364</td>\n",
       "      <td>0.189405</td>\n",
       "      <td>0.437273</td>\n",
       "      <td>0.248309</td>\n",
       "      <td>120</td>\n",
       "      <td>1229</td>\n",
       "      <td>1349</td>\n",
       "    </tr>\n",
       "    <tr>\n",
       "      <th>3</th>\n",
       "      <td>4</td>\n",
       "      <td>2011-01-04</td>\n",
       "      <td>1</td>\n",
       "      <td>0</td>\n",
       "      <td>1</td>\n",
       "      <td>0</td>\n",
       "      <td>2</td>\n",
       "      <td>1</td>\n",
       "      <td>1</td>\n",
       "      <td>0.200000</td>\n",
       "      <td>0.212122</td>\n",
       "      <td>0.590435</td>\n",
       "      <td>0.160296</td>\n",
       "      <td>108</td>\n",
       "      <td>1454</td>\n",
       "      <td>1562</td>\n",
       "    </tr>\n",
       "    <tr>\n",
       "      <th>4</th>\n",
       "      <td>5</td>\n",
       "      <td>2011-01-05</td>\n",
       "      <td>1</td>\n",
       "      <td>0</td>\n",
       "      <td>1</td>\n",
       "      <td>0</td>\n",
       "      <td>3</td>\n",
       "      <td>1</td>\n",
       "      <td>1</td>\n",
       "      <td>0.226957</td>\n",
       "      <td>0.229270</td>\n",
       "      <td>0.436957</td>\n",
       "      <td>0.186900</td>\n",
       "      <td>82</td>\n",
       "      <td>1518</td>\n",
       "      <td>1600</td>\n",
       "    </tr>\n",
       "  </tbody>\n",
       "</table>\n",
       "</div>"
      ],
      "text/plain": [
       "   instant      dteday  season  yr  mnth  holiday  weekday  workingday  \\\n",
       "0        1  2011-01-01       1   0     1        0        6           0   \n",
       "1        2  2011-01-02       1   0     1        0        0           0   \n",
       "2        3  2011-01-03       1   0     1        0        1           1   \n",
       "3        4  2011-01-04       1   0     1        0        2           1   \n",
       "4        5  2011-01-05       1   0     1        0        3           1   \n",
       "\n",
       "   weathersit      temp     atemp       hum  windspeed  casual  registered  \\\n",
       "0           2  0.344167  0.363625  0.805833   0.160446     331         654   \n",
       "1           2  0.363478  0.353739  0.696087   0.248539     131         670   \n",
       "2           1  0.196364  0.189405  0.437273   0.248309     120        1229   \n",
       "3           1  0.200000  0.212122  0.590435   0.160296     108        1454   \n",
       "4           1  0.226957  0.229270  0.436957   0.186900      82        1518   \n",
       "\n",
       "    cnt  \n",
       "0   985  \n",
       "1   801  \n",
       "2  1349  \n",
       "3  1562  \n",
       "4  1600  "
      ]
     },
     "execution_count": 2,
     "metadata": {},
     "output_type": "execute_result"
    }
   ],
   "source": [
    "# membaca data\n",
    "bike_day=pd.read_csv(\"data/day.csv\",delimiter=\",\")\n",
    "bike_day.head()\n"
   ]
  },
  {
   "cell_type": "markdown",
   "metadata": {
    "id": "MMi6xGaDkbCi"
   },
   "source": [
    "**Insight:**\n",
    "- data yang dilakukan pengambilan yaitu berupa file .csv, sehingga dalam melakukan pembacaan file dengan library pandas harus menggunakan csv\n",
    "- dari data tersebut ada beberapa kolom yang dapat dianalisa berdasarkan kebutuhan, kolom-kolom tersebut diantaranya instant,dteday,season,yr,mnth,holiday, weekday, workingday, weathersit, temp, atemp, hum,windspeed, casual,registered, cnt"
   ]
  },
  {
   "cell_type": "markdown",
   "metadata": {
    "id": "FHSiqaZp8DC1"
   },
   "source": [
    "### Assessing Data"
   ]
  },
  {
   "cell_type": "code",
   "execution_count": 3,
   "metadata": {
    "colab": {
     "base_uri": "https://localhost:8080/",
     "height": 1000
    },
    "id": "ax-3tEjc9Cj1",
    "outputId": "0747454d-9ffb-455d-8cf0-29e3e933be40"
   },
   "outputs": [
    {
     "name": "stdout",
     "output_type": "stream",
     "text": [
      "<class 'pandas.core.frame.DataFrame'>\n",
      "RangeIndex: 731 entries, 0 to 730\n",
      "Data columns (total 16 columns):\n",
      " #   Column      Non-Null Count  Dtype  \n",
      "---  ------      --------------  -----  \n",
      " 0   instant     731 non-null    int64  \n",
      " 1   dteday      731 non-null    object \n",
      " 2   season      731 non-null    int64  \n",
      " 3   yr          731 non-null    int64  \n",
      " 4   mnth        731 non-null    int64  \n",
      " 5   holiday     731 non-null    int64  \n",
      " 6   weekday     731 non-null    int64  \n",
      " 7   workingday  731 non-null    int64  \n",
      " 8   weathersit  731 non-null    int64  \n",
      " 9   temp        731 non-null    float64\n",
      " 10  atemp       731 non-null    float64\n",
      " 11  hum         731 non-null    float64\n",
      " 12  windspeed   731 non-null    float64\n",
      " 13  casual      731 non-null    int64  \n",
      " 14  registered  731 non-null    int64  \n",
      " 15  cnt         731 non-null    int64  \n",
      "dtypes: float64(4), int64(11), object(1)\n",
      "memory usage: 91.5+ KB\n",
      "jumlah duplikasi: 0\n",
      "jumlah data missing value instant       0\n",
      "dteday        0\n",
      "season        0\n",
      "yr            0\n",
      "mnth          0\n",
      "holiday       0\n",
      "weekday       0\n",
      "workingday    0\n",
      "weathersit    0\n",
      "temp          0\n",
      "atemp         0\n",
      "hum           0\n",
      "windspeed     0\n",
      "casual        0\n",
      "registered    0\n",
      "cnt           0\n",
      "dtype: int64\n"
     ]
    },
    {
     "data": {
      "text/html": [
       "<div>\n",
       "<style scoped>\n",
       "    .dataframe tbody tr th:only-of-type {\n",
       "        vertical-align: middle;\n",
       "    }\n",
       "\n",
       "    .dataframe tbody tr th {\n",
       "        vertical-align: top;\n",
       "    }\n",
       "\n",
       "    .dataframe thead th {\n",
       "        text-align: right;\n",
       "    }\n",
       "</style>\n",
       "<table border=\"1\" class=\"dataframe\">\n",
       "  <thead>\n",
       "    <tr style=\"text-align: right;\">\n",
       "      <th></th>\n",
       "      <th>instant</th>\n",
       "      <th>season</th>\n",
       "      <th>yr</th>\n",
       "      <th>mnth</th>\n",
       "      <th>holiday</th>\n",
       "      <th>weekday</th>\n",
       "      <th>workingday</th>\n",
       "      <th>weathersit</th>\n",
       "      <th>temp</th>\n",
       "      <th>atemp</th>\n",
       "      <th>hum</th>\n",
       "      <th>windspeed</th>\n",
       "      <th>casual</th>\n",
       "      <th>registered</th>\n",
       "      <th>cnt</th>\n",
       "    </tr>\n",
       "  </thead>\n",
       "  <tbody>\n",
       "    <tr>\n",
       "      <th>count</th>\n",
       "      <td>731.000000</td>\n",
       "      <td>731.000000</td>\n",
       "      <td>731.000000</td>\n",
       "      <td>731.000000</td>\n",
       "      <td>731.000000</td>\n",
       "      <td>731.000000</td>\n",
       "      <td>731.000000</td>\n",
       "      <td>731.000000</td>\n",
       "      <td>731.000000</td>\n",
       "      <td>731.000000</td>\n",
       "      <td>731.000000</td>\n",
       "      <td>731.000000</td>\n",
       "      <td>731.000000</td>\n",
       "      <td>731.000000</td>\n",
       "      <td>731.000000</td>\n",
       "    </tr>\n",
       "    <tr>\n",
       "      <th>mean</th>\n",
       "      <td>366.000000</td>\n",
       "      <td>2.496580</td>\n",
       "      <td>0.500684</td>\n",
       "      <td>6.519836</td>\n",
       "      <td>0.028728</td>\n",
       "      <td>2.997264</td>\n",
       "      <td>0.683995</td>\n",
       "      <td>1.395349</td>\n",
       "      <td>0.495385</td>\n",
       "      <td>0.474354</td>\n",
       "      <td>0.627894</td>\n",
       "      <td>0.190486</td>\n",
       "      <td>848.176471</td>\n",
       "      <td>3656.172367</td>\n",
       "      <td>4504.348837</td>\n",
       "    </tr>\n",
       "    <tr>\n",
       "      <th>std</th>\n",
       "      <td>211.165812</td>\n",
       "      <td>1.110807</td>\n",
       "      <td>0.500342</td>\n",
       "      <td>3.451913</td>\n",
       "      <td>0.167155</td>\n",
       "      <td>2.004787</td>\n",
       "      <td>0.465233</td>\n",
       "      <td>0.544894</td>\n",
       "      <td>0.183051</td>\n",
       "      <td>0.162961</td>\n",
       "      <td>0.142429</td>\n",
       "      <td>0.077498</td>\n",
       "      <td>686.622488</td>\n",
       "      <td>1560.256377</td>\n",
       "      <td>1937.211452</td>\n",
       "    </tr>\n",
       "    <tr>\n",
       "      <th>min</th>\n",
       "      <td>1.000000</td>\n",
       "      <td>1.000000</td>\n",
       "      <td>0.000000</td>\n",
       "      <td>1.000000</td>\n",
       "      <td>0.000000</td>\n",
       "      <td>0.000000</td>\n",
       "      <td>0.000000</td>\n",
       "      <td>1.000000</td>\n",
       "      <td>0.059130</td>\n",
       "      <td>0.079070</td>\n",
       "      <td>0.000000</td>\n",
       "      <td>0.022392</td>\n",
       "      <td>2.000000</td>\n",
       "      <td>20.000000</td>\n",
       "      <td>22.000000</td>\n",
       "    </tr>\n",
       "    <tr>\n",
       "      <th>25%</th>\n",
       "      <td>183.500000</td>\n",
       "      <td>2.000000</td>\n",
       "      <td>0.000000</td>\n",
       "      <td>4.000000</td>\n",
       "      <td>0.000000</td>\n",
       "      <td>1.000000</td>\n",
       "      <td>0.000000</td>\n",
       "      <td>1.000000</td>\n",
       "      <td>0.337083</td>\n",
       "      <td>0.337842</td>\n",
       "      <td>0.520000</td>\n",
       "      <td>0.134950</td>\n",
       "      <td>315.500000</td>\n",
       "      <td>2497.000000</td>\n",
       "      <td>3152.000000</td>\n",
       "    </tr>\n",
       "    <tr>\n",
       "      <th>50%</th>\n",
       "      <td>366.000000</td>\n",
       "      <td>3.000000</td>\n",
       "      <td>1.000000</td>\n",
       "      <td>7.000000</td>\n",
       "      <td>0.000000</td>\n",
       "      <td>3.000000</td>\n",
       "      <td>1.000000</td>\n",
       "      <td>1.000000</td>\n",
       "      <td>0.498333</td>\n",
       "      <td>0.486733</td>\n",
       "      <td>0.626667</td>\n",
       "      <td>0.180975</td>\n",
       "      <td>713.000000</td>\n",
       "      <td>3662.000000</td>\n",
       "      <td>4548.000000</td>\n",
       "    </tr>\n",
       "    <tr>\n",
       "      <th>75%</th>\n",
       "      <td>548.500000</td>\n",
       "      <td>3.000000</td>\n",
       "      <td>1.000000</td>\n",
       "      <td>10.000000</td>\n",
       "      <td>0.000000</td>\n",
       "      <td>5.000000</td>\n",
       "      <td>1.000000</td>\n",
       "      <td>2.000000</td>\n",
       "      <td>0.655417</td>\n",
       "      <td>0.608602</td>\n",
       "      <td>0.730209</td>\n",
       "      <td>0.233214</td>\n",
       "      <td>1096.000000</td>\n",
       "      <td>4776.500000</td>\n",
       "      <td>5956.000000</td>\n",
       "    </tr>\n",
       "    <tr>\n",
       "      <th>max</th>\n",
       "      <td>731.000000</td>\n",
       "      <td>4.000000</td>\n",
       "      <td>1.000000</td>\n",
       "      <td>12.000000</td>\n",
       "      <td>1.000000</td>\n",
       "      <td>6.000000</td>\n",
       "      <td>1.000000</td>\n",
       "      <td>3.000000</td>\n",
       "      <td>0.861667</td>\n",
       "      <td>0.840896</td>\n",
       "      <td>0.972500</td>\n",
       "      <td>0.507463</td>\n",
       "      <td>3410.000000</td>\n",
       "      <td>6946.000000</td>\n",
       "      <td>8714.000000</td>\n",
       "    </tr>\n",
       "  </tbody>\n",
       "</table>\n",
       "</div>"
      ],
      "text/plain": [
       "          instant      season          yr        mnth     holiday     weekday  \\\n",
       "count  731.000000  731.000000  731.000000  731.000000  731.000000  731.000000   \n",
       "mean   366.000000    2.496580    0.500684    6.519836    0.028728    2.997264   \n",
       "std    211.165812    1.110807    0.500342    3.451913    0.167155    2.004787   \n",
       "min      1.000000    1.000000    0.000000    1.000000    0.000000    0.000000   \n",
       "25%    183.500000    2.000000    0.000000    4.000000    0.000000    1.000000   \n",
       "50%    366.000000    3.000000    1.000000    7.000000    0.000000    3.000000   \n",
       "75%    548.500000    3.000000    1.000000   10.000000    0.000000    5.000000   \n",
       "max    731.000000    4.000000    1.000000   12.000000    1.000000    6.000000   \n",
       "\n",
       "       workingday  weathersit        temp       atemp         hum   windspeed  \\\n",
       "count  731.000000  731.000000  731.000000  731.000000  731.000000  731.000000   \n",
       "mean     0.683995    1.395349    0.495385    0.474354    0.627894    0.190486   \n",
       "std      0.465233    0.544894    0.183051    0.162961    0.142429    0.077498   \n",
       "min      0.000000    1.000000    0.059130    0.079070    0.000000    0.022392   \n",
       "25%      0.000000    1.000000    0.337083    0.337842    0.520000    0.134950   \n",
       "50%      1.000000    1.000000    0.498333    0.486733    0.626667    0.180975   \n",
       "75%      1.000000    2.000000    0.655417    0.608602    0.730209    0.233214   \n",
       "max      1.000000    3.000000    0.861667    0.840896    0.972500    0.507463   \n",
       "\n",
       "            casual   registered          cnt  \n",
       "count   731.000000   731.000000   731.000000  \n",
       "mean    848.176471  3656.172367  4504.348837  \n",
       "std     686.622488  1560.256377  1937.211452  \n",
       "min       2.000000    20.000000    22.000000  \n",
       "25%     315.500000  2497.000000  3152.000000  \n",
       "50%     713.000000  3662.000000  4548.000000  \n",
       "75%    1096.000000  4776.500000  5956.000000  \n",
       "max    3410.000000  6946.000000  8714.000000  "
      ]
     },
     "execution_count": 3,
     "metadata": {},
     "output_type": "execute_result"
    }
   ],
   "source": [
    "# memerikan konsistensi data\n",
    "unique_values = {\n",
    "    'season': bike_day['season'].unique(),\n",
    "    'yr': bike_day['yr'].unique(),\n",
    "    'mnth': bike_day['mnth'].unique(),\n",
    "    'holiday': bike_day['holiday'].unique(),\n",
    "    'weekday': bike_day['weekday'].unique(),\n",
    "    'workingday': bike_day['workingday'].unique(),\n",
    "    'weathersit': bike_day['weathersit'].unique()\n",
    "}\n",
    "unique_values\n",
    "\n",
    "# mengecek tipe data dan ketidaksesuaian\n",
    "bike_day.info()\n",
    "\n",
    "# melakukan pengecekan duplikasi\n",
    "print(\"jumlah duplikasi:\",bike_day.duplicated().sum())\n",
    "\n",
    "# cek data missing value\n",
    "print(\"jumlah data missing value\",bike_day.isna().sum())\n",
    "\n",
    "# mengecek dekripsi data\n",
    "bike_day.describe()\n"
   ]
  },
  {
   "cell_type": "markdown",
   "metadata": {
    "id": "7dtxhAPrkhPL"
   },
   "source": [
    "**Insight:**\n",
    "- Kolom season memiliki nilai yang konsisten: [1, 2, 3, 4].\n",
    "Kolom yr memiliki nilai [0, 1], menunjukkan dua tahun berbeda dalam dataset.\n",
    "Kolom mnth memiliki nilai [1-12], sesuai dengan 12 bulan.\n",
    "Kolom holiday dan workingday memiliki nilai [0, 1], sesuai dengan boolean.\n",
    "Kolom weekday memiliki nilai [0-6], mewakili hari dalam seminggu.\n",
    "Kolom weathersit memiliki nilai [1, 2, 3].\n",
    "- pada kolom dteday bertipe object sehingga harus diubah terlebih dahulu menjadi tipedata datetime\n",
    "- tidak ada data yang missing value dan duplikasi data\n",
    "-distribusi yang wajar pada setiap data"
   ]
  },
  {
   "cell_type": "markdown",
   "metadata": {
    "id": "EhN5R4hr8DC1"
   },
   "source": [
    "### Cleaning Data"
   ]
  },
  {
   "cell_type": "code",
   "execution_count": 4,
   "metadata": {
    "colab": {
     "base_uri": "https://localhost:8080/"
    },
    "id": "jVnYpprE9Evz",
    "outputId": "9864426d-df4f-4e6f-ea7d-6e1a7ee4d815"
   },
   "outputs": [
    {
     "name": "stdout",
     "output_type": "stream",
     "text": [
      "<class 'pandas.core.frame.DataFrame'>\n",
      "RangeIndex: 731 entries, 0 to 730\n",
      "Data columns (total 16 columns):\n",
      " #   Column      Non-Null Count  Dtype         \n",
      "---  ------      --------------  -----         \n",
      " 0   instant     731 non-null    int64         \n",
      " 1   dteday      731 non-null    datetime64[ns]\n",
      " 2   season      731 non-null    object        \n",
      " 3   yr          731 non-null    int64         \n",
      " 4   mnth        731 non-null    int64         \n",
      " 5   holiday     731 non-null    int64         \n",
      " 6   weekday     731 non-null    int64         \n",
      " 7   workingday  731 non-null    object        \n",
      " 8   weathersit  731 non-null    int64         \n",
      " 9   temp        731 non-null    float64       \n",
      " 10  atemp       731 non-null    float64       \n",
      " 11  hum         731 non-null    float64       \n",
      " 12  windspeed   731 non-null    float64       \n",
      " 13  casual      731 non-null    int64         \n",
      " 14  registered  731 non-null    int64         \n",
      " 15  cnt         731 non-null    int64         \n",
      "dtypes: datetime64[ns](1), float64(4), int64(9), object(2)\n",
      "memory usage: 91.5+ KB\n"
     ]
    }
   ],
   "source": [
    "# Mengubah kolom dteday menjadi tipedata datetime\n",
    "bike_day['dteday'] = pd.to_datetime(bike_day['dteday'])\n",
    "\n",
    "# merubah data numerik pada season menjadi kategori\n",
    "season_mapping = {\n",
    "    1: 'Springer',\n",
    "    2: 'Summer',\n",
    "    3: 'Fall',\n",
    "    4: 'Winter'\n",
    "}\n",
    "bike_day['season'] = bike_day['season'].map(season_mapping)\n",
    "\n",
    "# merubah hari libur atau hari kerja\n",
    "workingday_mapping = {\n",
    "    0: 'Libur',\n",
    "    1: 'Kerja'\n",
    "\n",
    "}\n",
    "bike_day['workingday'] = bike_day['workingday'].map(workingday_mapping)\n",
    "bike_day.head()\n",
    "bike_day.info()\n",
    "\n"
   ]
  },
  {
   "cell_type": "markdown",
   "metadata": {
    "id": "Q_5ejIqckiSP"
   },
   "source": [
    "**Insight:**\n",
    "- perubahan type data pada colum dteday yang sebelumnya object menjadi datetime\n",
    "- merubah type data pada kolom season dan workingday menjadi kategorikal"
   ]
  },
  {
   "cell_type": "markdown",
   "metadata": {
    "id": "gp-Y6wU38DC1"
   },
   "source": [
    "## Exploratory Data Analysis (EDA)"
   ]
  },
  {
   "cell_type": "markdown",
   "metadata": {
    "id": "MW7WF2kr8DC1"
   },
   "source": [
    "### Explore ..."
   ]
  },
  {
   "cell_type": "code",
   "execution_count": 5,
   "metadata": {
    "colab": {
     "base_uri": "https://localhost:8080/",
     "height": 125
    },
    "id": "e9CQCZjk8DC2",
    "outputId": "75d34711-aae0-4085-9922-47cad65c88f0"
   },
   "outputs": [
    {
     "data": {
      "text/html": [
       "<div>\n",
       "<style scoped>\n",
       "    .dataframe tbody tr th:only-of-type {\n",
       "        vertical-align: middle;\n",
       "    }\n",
       "\n",
       "    .dataframe tbody tr th {\n",
       "        vertical-align: top;\n",
       "    }\n",
       "\n",
       "    .dataframe thead th {\n",
       "        text-align: right;\n",
       "    }\n",
       "</style>\n",
       "<table border=\"1\" class=\"dataframe\">\n",
       "  <thead>\n",
       "    <tr style=\"text-align: right;\">\n",
       "      <th></th>\n",
       "      <th>workingday</th>\n",
       "      <th>mean</th>\n",
       "      <th>sum</th>\n",
       "    </tr>\n",
       "  </thead>\n",
       "  <tbody>\n",
       "    <tr>\n",
       "      <th>0</th>\n",
       "      <td>Kerja</td>\n",
       "      <td>4584.820000</td>\n",
       "      <td>2292410</td>\n",
       "    </tr>\n",
       "    <tr>\n",
       "      <th>1</th>\n",
       "      <td>Libur</td>\n",
       "      <td>4330.168831</td>\n",
       "      <td>1000269</td>\n",
       "    </tr>\n",
       "  </tbody>\n",
       "</table>\n",
       "</div>"
      ],
      "text/plain": [
       "  workingday         mean      sum\n",
       "0      Kerja  4584.820000  2292410\n",
       "1      Libur  4330.168831  1000269"
      ]
     },
     "execution_count": 5,
     "metadata": {},
     "output_type": "execute_result"
    }
   ],
   "source": [
    "season_grouped = bike_day.groupby('season')['cnt'].agg(['mean', 'sum']).reset_index()\n",
    "season_grouped\n",
    "\n",
    "workingday_grouped = bike_day.groupby('workingday')['cnt'].agg(['mean', 'sum']).reset_index()\n",
    "workingday_grouped"
   ]
  },
  {
   "cell_type": "markdown",
   "metadata": {
    "id": "th_Lzl2Fkj9O"
   },
   "source": [
    "**Insight:**\n",
    "- Rata-rata penyewaan sepeda terbanyak berada pada musim fall yaitu 5.644 dengan jumlah 1.061.129, di ikuti oleh summer dengan rata-rata 4.992,winter dengan rata-rata 4728 dan terakhir springer dengan rata-rata 2.604\n",
    "- Rata-rata penyewaan sepeda terbanyak yaitu pada hari kerja dengan rata-rata 4584 lalu di ikuti hari libur dengan rata-rata 4.330"
   ]
  },
  {
   "cell_type": "markdown",
   "metadata": {
    "id": "zsyZjqak8DC2"
   },
   "source": [
    "## Visualization & Explanatory Analysis"
   ]
  },
  {
   "cell_type": "markdown",
   "metadata": {
    "id": "HZxOiQ6n8DC2"
   },
   "source": [
    "### Pertanyaan 1:"
   ]
  },
  {
   "cell_type": "code",
   "execution_count": 6,
   "metadata": {
    "colab": {
     "base_uri": "https://localhost:8080/",
     "height": 564
    },
    "id": "1swJUdAD8DC2",
    "outputId": "5a207797-96cc-4652-96d1-c2a230111d6b"
   },
   "outputs": [
    {
     "data": {
      "image/png": "[encoded data removed]",
      "text/plain": [
       "<Figure size 1000x600 with 1 Axes>"
      ]
     },
     "metadata": {},
     "output_type": "display_data"
    }
   ],
   "source": [
    "# visualisasi data season\n",
    "plt.figure(figsize=(10, 6))\n",
    "sns.barplot(x='season', y='mean', data=season_grouped)\n",
    "plt.title('Rata-rata Penyewaan Sepeda Berdasarkan Musim')\n",
    "plt.xlabel('Musim')\n",
    "plt.ylabel('Rata-rata Penyewaan Sepeda')\n",
    "plt.show()"
   ]
  },
  {
   "cell_type": "markdown",
   "metadata": {
    "id": "DgHI7CiU8DC2"
   },
   "source": [
    "### Pertanyaan 2:"
   ]
  },
  {
   "cell_type": "code",
   "execution_count": 7,
   "metadata": {
    "colab": {
     "base_uri": "https://localhost:8080/",
     "height": 564
    },
    "id": "Go0lCsvO8DC2",
    "outputId": "025b4fff-9518-460f-c9c3-8da00c29c8a8"
   },
   "outputs": [
    {
     "data": {
      "image/png": "[encoded data removed]",
      "text/plain": [
       "<Figure size 1000x600 with 1 Axes>"
      ]
     },
     "metadata": {},
     "output_type": "display_data"
    }
   ],
   "source": [
    "# visualisasi data workingday\n",
    "plt.figure(figsize=(10, 6))\n",
    "sns.barplot(x='workingday', y='mean', data=workingday_grouped)\n",
    "plt.title('Rata-rata Penyewaan Sepeda Berdasarkan Hari libur/kerja')\n",
    "plt.xlabel('Hari')\n",
    "plt.ylabel('Rata-rata Penyewaan Sepeda')\n",
    "plt.show()"
   ]
  },
  {
   "cell_type": "markdown",
   "metadata": {
    "id": "_0-36BDLklRg"
   },
   "source": [
    "**Insight:**\n",
    "- Rata-rata penyewaan terbanyak dilakukan di kondisi musim fall\n",
    "- rata-rata penyewaan terbanyak dilakukan di hari kerja"
   ]
  },
  {
   "cell_type": "markdown",
   "metadata": {
    "id": "9y4VUsmcYNZ5"
   },
   "source": [
    "## Analisis Lanjutan (Opsional)"
   ]
  },
  {
   "cell_type": "code",
   "execution_count": 8,
   "metadata": {
    "colab": {
     "base_uri": "https://localhost:8080/",
     "height": 1000
    },
    "id": "iWhnzsJGYUCO",
    "outputId": "63380cc3-a479-4dd9-c967-7d0bf6288d50"
   },
   "outputs": [
    {
     "data": {
      "image/png": "[encoded data removed]",
      "text/plain": [
       "<Figure size 1000x600 with 1 Axes>"
      ]
     },
     "metadata": {},
     "output_type": "display_data"
    },
    {
     "data": {
      "image/png": "[encoded data removed]",
      "text/plain": [
       "<Figure size 1000x600 with 1 Axes>"
      ]
     },
     "metadata": {},
     "output_type": "display_data"
    },
    {
     "name": "stdout",
     "output_type": "stream",
     "text": [
      "      Musim  Rata-rata Penyewaan  Total Penyewaan  Jumlah Hari\n",
      "0      Fall          5644.303191          1061129          188\n",
      "1  Springer          2604.132597           471348          181\n",
      "2    Summer          4992.331522           918589          184\n",
      "3    Winter          4728.162921           841613          178\n",
      "Winter count: 178\n",
      "Spring count: 181\n",
      "Summer count: 184\n",
      "Fall count: 188\n",
      "F-Statistic: 128.76962156570784\n",
      "P-Value: 6.720391362913175e-67\n"
     ]
    },
    {
     "data": {
      "image/png": "[encoded data removed]",
      "text/plain": [
       "<Figure size 1000x600 with 1 Axes>"
      ]
     },
     "metadata": {},
     "output_type": "display_data"
    },
    {
     "data": {
      "image/png": "[encoded data removed]",
      "text/plain": [
       "<Figure size 1000x600 with 1 Axes>"
      ]
     },
     "metadata": {},
     "output_type": "display_data"
    },
    {
     "name": "stdout",
     "output_type": "stream",
     "text": [
      "    Hari  Rata-rata Penyewaan  Total Penyewaan  Jumlah Hari\n",
      "0  Kerja          4584.820000          2292410          500\n",
      "1  Libur          4330.168831          1000269          231\n",
      "Hari libur: 231\n",
      "Hari kerja: 500\n",
      "F-Statistic: 2.736742283191394\n",
      "P-Value: 0.0984949616002635\n"
     ]
    }
   ],
   "source": [
    "# Box Plot untuk penyewaan sepeda berdasarkan musim\n",
    "plt.figure(figsize=(10, 6))\n",
    "sns.boxplot(x='season', y='cnt', data=bike_day)\n",
    "plt.title('Penyewaan Sepeda Berdasarkan Musim')\n",
    "plt.xlabel('Musim')\n",
    "plt.ylabel('Jumlah Penyewaan Sepeda')\n",
    "plt.show()\n",
    "\n",
    "# Bar Plot untuk rata-rata penyewaan sepeda pada setiap musim\n",
    "season_avg = bike_day.groupby('season')['cnt'].mean().reset_index()\n",
    "\n",
    "plt.figure(figsize=(10, 6))\n",
    "sns.barplot(x='season', y='cnt', data=season_avg)\n",
    "plt.title('Rata-rata Penyewaan Sepeda Berdasarkan Musim')\n",
    "plt.xlabel('Musim')\n",
    "plt.ylabel('Rata-rata Jumlah Penyewaan Sepeda')\n",
    "plt.show()\n",
    "\n",
    "season_stats = bike_day.groupby('season')['cnt'].agg(['mean', 'sum', 'count']).reset_index()\n",
    "season_stats.columns = ['Musim', 'Rata-rata Penyewaan', 'Total Penyewaan', 'Jumlah Hari']\n",
    "print(season_stats)\n",
    "\n",
    "# Menyiapkan data untuk ANOVA\n",
    "winter = bike_day[bike_day['season'] == 'Winter']['cnt']\n",
    "springer = bike_day[bike_day['season'] == 'Springer']['cnt']\n",
    "summer = bike_day[bike_day['season'] == 'Summer']['cnt']\n",
    "fall = bike_day[bike_day['season'] == 'Fall']['cnt']\n",
    "\n",
    "\n",
    "# Memastikan setiap subset tidak kosong\n",
    "print(\"Winter count:\", len(winter))\n",
    "print(\"Spring count:\", len(springer))\n",
    "print(\"Summer count:\", len(summer))\n",
    "print(\"Fall count:\", len(fall))\n",
    "\n",
    "# Periksa apakah setiap subset memiliki data\n",
    "if len(winter) > 0 and len(springer) > 0 and len(summer) > 0 and len(fall) > 0:\n",
    "    # Melakukan uji ANOVA\n",
    "    f_stat, p_value = f_oneway(winter, springer, summer, fall)\n",
    "    print(f\"F-Statistic: {f_stat}\")\n",
    "    print(f\"P-Value: {p_value}\")\n",
    "else:\n",
    "    print(\"Salah satu subset musim tidak memiliki data.\")\n",
    "\n",
    "\n",
    "\n",
    "# ===========================pertanyaan 2\n",
    "# Box Plot untuk penyewaan sepeda berdasarkan hari\n",
    "plt.figure(figsize=(10, 6))\n",
    "sns.boxplot(x='workingday', y='cnt', data=bike_day)\n",
    "plt.title('Penyewaan Sepeda Berdasarkan hari')\n",
    "plt.xlabel('Hari')\n",
    "plt.ylabel('Jumlah Penyewaan Sepeda')\n",
    "plt.show()\n",
    "\n",
    "# Bar Plot untuk rata-rata penyewaan sepeda pada setiap hari\n",
    "workingday_avg = bike_day.groupby('workingday')['cnt'].mean().reset_index()\n",
    "\n",
    "plt.figure(figsize=(10, 6))\n",
    "sns.barplot(x='workingday', y='cnt', data=workingday_avg)\n",
    "plt.title('Rata-rata Penyewaan Sepeda Berdasarkan hari')\n",
    "plt.xlabel('hari')\n",
    "plt.ylabel('Rata-rata Jumlah Penyewaan Sepeda')\n",
    "plt.show()\n",
    "\n",
    "workingday_stats = bike_day.groupby('workingday')['cnt'].agg(['mean', 'sum', 'count']).reset_index()\n",
    "workingday_stats.columns = ['Hari', 'Rata-rata Penyewaan', 'Total Penyewaan', 'Jumlah Hari']\n",
    "print(workingday_stats)\n",
    "\n",
    "# Menyiapkan data untuk ANOVA\n",
    "libur= bike_day[bike_day['workingday'] == 'Libur']['cnt']\n",
    "kerja = bike_day[bike_day['workingday'] == 'Kerja']['cnt']\n",
    "\n",
    "\n",
    "# Memastikan setiap subset tidak kosong\n",
    "print(\"Hari libur:\", len(libur))\n",
    "print(\"Hari kerja:\", len(kerja))\n",
    "\n",
    "\n",
    "# Periksa apakah setiap subset memiliki data\n",
    "if len(libur) > 0 and len(kerja) > 0 :\n",
    "    # Melakukan uji ANOVA\n",
    "    f_stat_w, p_value_w = f_oneway(libur,kerja)\n",
    "    print(f\"F-Statistic: {f_stat_w}\")\n",
    "    print(f\"P-Value: {p_value_w}\")\n",
    "else:\n",
    "    print(\"Salah satu subset musim tidak memiliki data.\")\n"
   ]
  },
  {
   "cell_type": "markdown",
   "metadata": {
    "id": "_WeHlCeX8DC2"
   },
   "source": [
    "## Conclusion"
   ]
  },
  {
   "cell_type": "markdown",
   "metadata": {
    "id": "ZTcyR48Y8DC2"
   },
   "source": [
    "conclution pertanyaan 1\n",
    "- terdapat perbedaan yang signifikan secara statistik dalam jumlah penyewaan sepeda antar musim. Hal ini menunjukkan bahwa musim memengaruhi jumlah penyewaan sepeda.\n",
    "-Strategi Musiman: Operator penyewaan sepeda dapat menyesuaikan strategi pemasaran dan operasional berdasarkan musim. Misalnya, meningkatkan promosi di musim dengan penyewaan rendah (seperti musim semi) atau menambah kapasitas di musim dengan penyewaan tinggi (seperti musim gugur).\n",
    "-Perencanaan Stok dan Pemeliharaan: Menyediakan lebih banyak sepeda di musim dengan permintaan tinggi dan melakukan pemeliharaan di musim dengan permintaan rendah.\n",
    "\n",
    " Conclution pertanyaan 2\n",
    "- F-statistik = 2.737 dan p-value = 0.0985 (> 0.05)\n",
    "Karena p-value (0.0985) > α (0.05), maka gagal menolak H0\n",
    "Artinya tidak ada perbedaan yang signifikan dalam jumlah penyewaan sepeda antara hari kerja (workingday=1) dan hari libur (workingday=0)\n",
    "Pola penyewaan sepeda relatif konsisten antara hari kerja dan hari libur\n",
    "- Strategi Operasional yang Konsisten:\n",
    "Tidak perlu membedakan jumlah stok sepeda antara hari kerja dan hari libur\n",
    "Dapat menerapkan strategi pelayanan yang seragam untuk setiap hari\n",
    "-Fokus pada Faktor Lain:\n",
    "Lebih baik mempertimbangkan faktor lain seperti musim atau cuaca dalam pengambilan keputusan\n",
    "Menganalisis faktor-faktor lain yang mungkin lebih berpengaruh terhadap jumlah penyewaan"
   ]
  }
 ],
 "metadata": {
  "colab": {
   "provenance": []
  },
  "kernelspec": {
   "display_name": "proyek_akhir",
   "language": "python",
   "name": "python3"
  },
  "language_info": {
   "codemirror_mode": {
    "name": "ipython",
    "version": 3
   },
   "file_extension": ".py",
   "mimetype": "text/x-python",
   "name": "python",
   "nbconvert_exporter": "python",
   "pygments_lexer": "ipython3",
   "version": "3.9.20"
  },
  "orig_nbformat": 4
 },
 "nbformat": 4,
 "nbformat_minor": 0
}
